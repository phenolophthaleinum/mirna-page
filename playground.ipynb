{
 "cells": [
  {
   "cell_type": "code",
   "execution_count": 1,
   "metadata": {},
   "outputs": [
    {
     "name": "stdout",
     "output_type": "stream",
     "text": [
      "{'CMC score': 4.0,\n",
      " 'CMC/non-CMC': 'CMC',\n",
      " 'KEGG \"MicroRNAs in cancer\" POINTS [criterion VI]': 1.0,\n",
      " 'cancer drivers POINTS [criterion VII]': nan,\n",
      " 'cancer hallmarks POINTS [criterion V]': nan,\n",
      " 'consistency of associations [criterion IV]': 1.0,\n",
      " 'dbDEMC POINTS [criterion II]': 0.5,\n",
      " 'miRCancer POINTS [criterion I]': 0.5,\n",
      " 'oncogene (O)/tumor-suppressor (TS) only for CMC': 'TS',\n",
      " 'oncomiRDB POINTS [criterion III]': 1.0}\n",
      "{'CMC score': 4.0,\n",
      " 'CMC/non-CMC': 'CMC',\n",
      " 'KEGG \"MicroRNAs in cancer\" POINTS [criterion VI]': 1.0,\n",
      " 'cancer drivers POINTS [criterion VII]': nan,\n",
      " 'cancer hallmarks POINTS [criterion V]': nan,\n",
      " 'consistency of associations [criterion IV]': 1.0,\n",
      " 'dbDEMC POINTS [criterion II]': 0.5,\n",
      " 'miRCancer POINTS [criterion I]': 0.5,\n",
      " 'oncogene (O)/tumor-suppressor (TS) only for CMC': 'TS',\n",
      " 'oncomiRDB POINTS [criterion III]': 1.0}\n",
      "{'CMC score': 4.0,\n",
      " 'CMC/non-CMC': 'CMC',\n",
      " 'KEGG \"MicroRNAs in cancer\" POINTS [criterion VI]': 1.0,\n",
      " 'cancer drivers POINTS [criterion VII]': nan,\n",
      " 'cancer hallmarks POINTS [criterion V]': nan,\n",
      " 'consistency of associations [criterion IV]': 1.0,\n",
      " 'dbDEMC POINTS [criterion II]': 0.5,\n",
      " 'miRCancer POINTS [criterion I]': 0.5,\n",
      " 'oncogene (O)/tumor-suppressor (TS) only for CMC': 'TS',\n",
      " 'oncomiRDB POINTS [criterion III]': 1.0}\n",
      "['MIREK-1', 'MIREK-1a', 'MIREK-1b', 'MIREK-1c']\n"
     ]
    }
   ],
   "source": [
    "import pandas as pd\n",
    "import pprint as pp\n",
    "from utils import AliasedDict\n",
    "\n",
    "\n",
    "df = pd.read_excel(\"./table_s4.xlsx\", index_col=0, skiprows=[0])\n",
    "alias_df = pd.read_excel(\"./table_s9.xlsx\", index_col=0, skiprows=[0])\n",
    "db = df.to_dict(orient='index')\n",
    "adict = AliasedDict(db)\n",
    "adict.add_alias(\"MIREK-1\", \"MIR1-1\")\n",
    "adict.add_alias(\"MIREK-1a\", \"MIR1-1\")\n",
    "adict.add_alias(\"MIREK-1b\", \"MIR1-1\")\n",
    "adict.add_alias({\"MIREK-1c\": \"MIR1-1\",\n",
    "                 \"MIREK-1a\": \"MIR1-1\"})\n",
    "# pp.pprint(adict)\n",
    "pp.pprint(adict['MIREK-1'])\n",
    "pp.pprint(adict['MIREK-1b'])\n",
    "pp.pprint(adict['MIREK-1a'])\n",
    "# pp.pprint(adict['MIREK-1d'])\n",
    "pp.pprint(adict.show_aliases(\"MIR1-1\"))"
   ]
  }
 ],
 "metadata": {
  "kernelspec": {
   "display_name": "Python 3",
   "language": "python",
   "name": "python3"
  },
  "language_info": {
   "codemirror_mode": {
    "name": "ipython",
    "version": 3
   },
   "file_extension": ".py",
   "mimetype": "text/x-python",
   "name": "python",
   "nbconvert_exporter": "python",
   "pygments_lexer": "ipython3",
   "version": "3.8.10"
  },
  "orig_nbformat": 4
 },
 "nbformat": 4,
 "nbformat_minor": 2
}
